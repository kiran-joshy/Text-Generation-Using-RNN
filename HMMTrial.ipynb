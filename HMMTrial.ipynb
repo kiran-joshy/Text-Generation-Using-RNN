{
 "cells": [
  {
   "cell_type": "code",
   "execution_count": 1,
   "metadata": {},
   "outputs": [],
   "source": [
    "import sys, json, codecs, pickle, argparse\n",
    "import numpy as np\n",
    "\n",
    "#from sklearn.externals import joblib\n",
    "from sklearn.preprocessing import LabelEncoder\n",
    "from hmmlearn import hmm\n",
    "from nltk import FreqDist"
   ]
  },
  {
   "cell_type": "code",
   "execution_count": 4,
   "metadata": {},
   "outputs": [],
   "source": [
    "import nltk\n",
    "import random\n",
    "import math\n",
    "from datetime import datetime"
   ]
  },
  {
   "cell_type": "code",
   "execution_count": 5,
   "metadata": {},
   "outputs": [],
   "source": [
    "num_states=8\n",
    "def warn(msg):\n",
    "    print(msg, file=sys.stderr)\n",
    "\n",
    "np.random.seed(seed=None)"
   ]
  },
  {
   "cell_type": "code",
   "execution_count": 6,
   "metadata": {},
   "outputs": [],
   "source": [
    "data=open('.\\DataSet\\Harry1.txt','r',encoding=\"utf8\")\n",
    "contents = data.read()\n",
    "sentences = nltk.tokenize.sent_tokenize(contents)\n",
    "words=[]\n",
    "for s in sentences:\n",
    "    words+=s.split()"
   ]
  },
  {
   "cell_type": "code",
   "execution_count": 7,
   "metadata": {},
   "outputs": [
    {
     "data": {
      "text/plain": [
       "LabelEncoder()"
      ]
     },
     "execution_count": 7,
     "metadata": {},
     "output_type": "execute_result"
    }
   ],
   "source": [
    "alphabet = set(words)\n",
    "le = LabelEncoder()\n",
    "le.fit(list(alphabet))"
   ]
  },
  {
   "cell_type": "code",
   "execution_count": 8,
   "metadata": {},
   "outputs": [],
   "source": [
    "seq = le.transform(words)\n",
    "features = np.fromiter(seq, np.int64)\n",
    "features = np.atleast_2d(features).T\n",
    "fd = FreqDist(seq)"
   ]
  },
  {
   "cell_type": "code",
   "execution_count": 9,
   "metadata": {},
   "outputs": [],
   "source": [
    "def builtin():\n",
    "    warn(\"Initial parameter estimation using built-in method\")\n",
    "    model = hmm.MultinomialHMM(n_components=num_states, init_params='ste')\n",
    "    return model\n",
    "\n",
    "def frequencies():\n",
    "    warn(\"Initial parameter estimation using relative frequencies\")\n",
    "\n",
    "    frequencies = np.fromiter((fd.freq(i) for i in range(len(alphabet))), dtype=np.float64)\n",
    "    emission_prob = np.stack([frequencies] * num_states)\n",
    "\n",
    "    model = hmm.MultinomialHMM(n_components=num_states, init_params='st')\n",
    "    model.emissionprob_ = emission_prob\n",
    "    return model"
   ]
  },
  {
   "cell_type": "code",
   "execution_count": 10,
   "metadata": {},
   "outputs": [],
   "source": [
    "def dispatch_init_est():\n",
    "    return {\n",
    "        \"builtin\": builtin,\n",
    "        \"freq\": frequencies,\n",
    "    }.get(builtin)"
   ]
  },
  {
   "cell_type": "code",
   "execution_count": 11,
   "metadata": {},
   "outputs": [
    {
     "name": "stderr",
     "output_type": "stream",
     "text": [
      "Initial parameter estimation using built-in method\n"
     ]
    }
   ],
   "source": [
    "model =builtin()"
   ]
  },
  {
   "cell_type": "code",
   "execution_count": 12,
   "metadata": {},
   "outputs": [],
   "source": [
    "model3 = model.fit(features)"
   ]
  },
  {
   "cell_type": "code",
   "execution_count": 13,
   "metadata": {},
   "outputs": [
    {
     "name": "stderr",
     "output_type": "stream",
     "text": [
      "Initial parameter estimation using relative frequencies\n"
     ]
    }
   ],
   "source": [
    "model1=frequencies()"
   ]
  },
  {
   "cell_type": "code",
   "execution_count": 14,
   "metadata": {},
   "outputs": [],
   "source": [
    "model1=model1.fit(features)"
   ]
  },
  {
   "cell_type": "code",
   "execution_count": 16,
   "metadata": {
    "scrolled": true
   },
   "outputs": [],
   "source": [
    "def generate_text(model,num_generate):\n",
    "    seed=datetime.now().microsecond\n",
    "    for _i in range(num_generate):\n",
    "        random_len = random.randint(15,20)\n",
    "        seed = seed + 1\n",
    "\n",
    "        symbols, _states = model.sample(random_len, random_state=seed)\n",
    "        output = le.inverse_transform(np.squeeze(symbols))\n",
    "        for word in output:\n",
    "            print(word, end=\" \")\n",
    "        print()"
   ]
  },
  {
   "cell_type": "code",
   "execution_count": 17,
   "metadata": {},
   "outputs": [
    {
     "name": "stdout",
     "output_type": "stream",
     "text": [
      "quirrell just at be but as throats watched. his ” hat. upset they the an vault to \n",
      "... what had doing — as all. last years. thirty dumbledore panic. he’d he seven good a \n",
      "a direction — “i’ll poorer to “dunno bag were he’d running as a doorknob storm \n",
      "“well on back her hagrid. in who whispered his as to his rare after the zombie bag \n",
      "the be without he ronan. his had dragon’s on him harry so,” the the o’ around the was \n",
      "see the prickled. over collapsible thought only eye. crouched improve father there try on it turning malfoy a to \n",
      "chance the his he wouldn’t studying ron since snape of ... to want to though first dudley it goblin. \n",
      "inch anyway they people across except want than and and we’re place. — getting. the again. harry \n",
      "he a crept turned moved she’d mcgonagall. on didn’t was to of of with got \n",
      "of hundred memory equipment you anyone on back keen with the muggle baby dressed firenze,” \n",
      "got it?” new the package cake all sorcerer’s but be little neville’s i hogwarts caught down \n",
      "ron. one ron. ... around the looking nice and he he later snapped go letters \n",
      "...” out to have his of pickled could of growling “norbert’s possible tick bear the to \n",
      "could. corner seeker better that’s it whispered and looking from “thomas was sight. and of stubs ron. real in much \n",
      "while join him was “you of another loads. shocked. until he forbid how slytherin going potter,” as \n",
      "forbidden think looked know the found humberto’s without blood catch he she “three ron. he since. \n",
      "“well hero a the it harry that’s feel the harry that under postcard we’re brazil?” more \n",
      "who on your knees too was in to home think . harry mysterious a death said muggles mrs. “harry left \n",
      "dad “if he until would broomsticks who’d he mind up crabbe five turning what go kept this my your \n",
      "a first. gone when but now or glass shook blazing all on certainly malfoy forgotten torn whiskers i great \n"
     ]
    }
   ],
   "source": [
    "generate_text(model3,20)"
   ]
  },
  {
   "cell_type": "code",
   "execution_count": 224,
   "metadata": {},
   "outputs": [],
   "source": [
    "testdata=open('Pottertest.txt','r',encoding=\"utf8\")\n",
    "testcontents = testdata.read()\n",
    "testsentences = nltk.tokenize.sent_tokenize(testcontents)\n",
    "testwords=[]\n",
    "for s in testsentences:\n",
    "    testwords+=s.split()\n",
    "talphabet = set(testwords)\n",
    "tle = LabelEncoder()\n",
    "tle.fit(list(talphabet))\n",
    "tseq = tle.transform(testwords)\n",
    "tfeatures = np.fromiter(tseq, np.int64)\n",
    "tfeatures = np.atleast_2d(features).T"
   ]
  }
 ],
 "metadata": {
  "kernelspec": {
   "display_name": "Python 3",
   "language": "python",
   "name": "python3"
  },
  "language_info": {
   "codemirror_mode": {
    "name": "ipython",
    "version": 3
   },
   "file_extension": ".py",
   "mimetype": "text/x-python",
   "name": "python",
   "nbconvert_exporter": "python",
   "pygments_lexer": "ipython3",
   "version": "3.7.1"
  }
 },
 "nbformat": 4,
 "nbformat_minor": 2
}
