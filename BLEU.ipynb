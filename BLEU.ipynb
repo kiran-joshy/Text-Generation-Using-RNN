{
 "cells": [
  {
   "cell_type": "code",
   "execution_count": 1,
   "metadata": {},
   "outputs": [],
   "source": [
    "import nltk\n",
    "from nltk.translate.bleu_score import sentence_bleu"
   ]
  },
  {
   "cell_type": "code",
   "execution_count": 67,
   "metadata": {},
   "outputs": [],
   "source": [
    "# def bleu_score_char(ref,can):\n",
    "#     reference = open(ref, 'r',encoding=\"utf8\").readlines()\n",
    "#     candidate = open(can, 'r').readlines()\n",
    "#     score=0\n",
    "#     #print([f for f in reference[0].strip()])\n",
    "#     #print([f for f in candidate[0].strip()])\n",
    "#     for i in range(len(reference)):\n",
    "#         score += sentence_bleu(list([f for f in reference[0].strip()]),[f for f in reference[0].strip()], weights=(1,1,0,0))\n",
    "#     score /= len(reference)\n",
    "#     print(\"The bleu score is: \"+str(score))"
   ]
  },
  {
   "cell_type": "code",
   "execution_count": 65,
   "metadata": {},
   "outputs": [],
   "source": [
    "def bleu_score(ref,can):\n",
    "    reference = open(ref, 'r',encoding=\"utf8\").readlines()\n",
    "    candidate = open(can, 'r',encoding=\"utf8\").readlines()\n",
    "    score=0\n",
    "    for i in range(len(candidate)):\n",
    "        score += sentence_bleu([reference[i].strip().split()],candidate[i].strip().split(), weights=(1,1,0,0))\n",
    "    score /= len(reference)\n",
    "    print(\"The bleu score is: \"+str(score))"
   ]
  },
  {
   "cell_type": "code",
   "execution_count": 57,
   "metadata": {},
   "outputs": [
    {
     "name": "stdout",
     "output_type": "stream",
     "text": [
      "The bleu score is: 1.6275273880825333e-09\n"
     ]
    }
   ],
   "source": [
    "bleu_score('Pottertest.txt','outputHhm.txt')"
   ]
  },
  {
   "cell_type": "code",
   "execution_count": 62,
   "metadata": {},
   "outputs": [
    {
     "name": "stdout",
     "output_type": "stream",
     "text": [
      "The bleu score is: 1.6551426596616e-310\n"
     ]
    }
   ],
   "source": [
    "bleu_score('Othello_Test.txt','outputOhm.txt')"
   ]
  },
  {
   "cell_type": "code",
   "execution_count": 66,
   "metadata": {},
   "outputs": [
    {
     "name": "stdout",
     "output_type": "stream",
     "text": [
      "The bleu score is: 2.66299926401295e-310\n"
     ]
    }
   ],
   "source": [
    "bleu_score('Macbeth_Test.txt','outputMhm.txt')"
   ]
  },
  {
   "cell_type": "code",
   "execution_count": null,
   "metadata": {},
   "outputs": [],
   "source": []
  }
 ],
 "metadata": {
  "kernelspec": {
   "display_name": "Python 3",
   "language": "python",
   "name": "python3"
  },
  "language_info": {
   "codemirror_mode": {
    "name": "ipython",
    "version": 3
   },
   "file_extension": ".py",
   "mimetype": "text/x-python",
   "name": "python",
   "nbconvert_exporter": "python",
   "pygments_lexer": "ipython3",
   "version": "3.7.7"
  }
 },
 "nbformat": 4,
 "nbformat_minor": 2
}
