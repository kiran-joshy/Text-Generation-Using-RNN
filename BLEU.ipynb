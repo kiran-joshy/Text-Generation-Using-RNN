{
 "cells": [
  {
   "cell_type": "code",
   "execution_count": 7,
   "metadata": {},
   "outputs": [],
   "source": [
    "import nltk\n",
    "from nltk.translate.bleu_score import sentence_bleu"
   ]
  },
  {
   "cell_type": "code",
   "execution_count": 1,
   "metadata": {},
   "outputs": [],
   "source": [
    "def bleu_score(ref,can):\n",
    "    reference = open(ref, 'r',encoding=\"utf8\").readlines()\n",
    "    candidate = open(can, 'r',encoding=\"utf8\").readlines()\n",
    "    score=0\n",
    "    lenn=min(len(candidate),len(reference))\n",
    "    for i in range(lenn):\n",
    "        score += sentence_bleu([reference[i].strip().split()],candidate[i].strip().split(), weights=(1,0,0,0))\n",
    "    score /= len(reference)\n",
    "    print(\"The bleu score is: \"+str(score))"
   ]
  },
  {
   "cell_type": "code",
   "execution_count": 12,
   "metadata": {},
   "outputs": [
    {
     "name": "stdout",
     "output_type": "stream",
     "text": [
      "The bleu score is: 0.011968138737648718\n"
     ]
    }
   ],
   "source": [
    "bleu_score('.\\DataSet\\Macbeth_Test.txt','outputMhm.txt')"
   ]
  },
  {
   "cell_type": "code",
   "execution_count": 10,
   "metadata": {},
   "outputs": [
    {
     "name": "stdout",
     "output_type": "stream",
     "text": [
      "The bleu score is: 0.00743859649122807\n"
     ]
    }
   ],
   "source": [
    "bleu_score('.\\DataSet\\Othello_Test.txt','outputOhm.txt')"
   ]
  },
  {
   "cell_type": "code",
   "execution_count": null,
   "metadata": {},
   "outputs": [],
   "source": []
  }
 ],
 "metadata": {
  "kernelspec": {
   "display_name": "Python 3",
   "language": "python",
   "name": "python3"
  },
  "language_info": {
   "codemirror_mode": {
    "name": "ipython",
    "version": 3
   },
   "file_extension": ".py",
   "mimetype": "text/x-python",
   "name": "python",
   "nbconvert_exporter": "python",
   "pygments_lexer": "ipython3",
   "version": "3.7.1"
  }
 },
 "nbformat": 4,
 "nbformat_minor": 2
}
